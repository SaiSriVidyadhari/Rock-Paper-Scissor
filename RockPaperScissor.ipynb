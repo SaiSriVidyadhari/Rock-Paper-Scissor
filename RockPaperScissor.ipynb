{
  "nbformat": 4,
  "nbformat_minor": 0,
  "metadata": {
    "colab": {
      "provenance": [],
      "authorship_tag": "ABX9TyMO9B9YLmCRBbIXtC6YwLF6",
      "include_colab_link": true
    },
    "kernelspec": {
      "name": "python3",
      "display_name": "Python 3"
    },
    "language_info": {
      "name": "python"
    }
  },
  "cells": [
    {
      "cell_type": "markdown",
      "metadata": {
        "id": "view-in-github",
        "colab_type": "text"
      },
      "source": [
        "<a href=\"https://colab.research.google.com/github/SaiSriVidyadhari/Rock-Paper-Scissor/blob/main/RockPaperScissor.ipynb\" target=\"_parent\"><img src=\"https://colab.research.google.com/assets/colab-badge.svg\" alt=\"Open In Colab\"/></a>"
      ]
    },
    {
      "cell_type": "markdown",
      "source": [
        "Winning Rules of Rock Paper & Scissor are as follows :\n",
        "\n",
        "Rock vs paper-> paper wins\n",
        "\n",
        "Rock vs scissor-> Rock wins\n",
        "\n",
        "paper vs scissor-> scissor wins."
      ],
      "metadata": {
        "id": "xrS9a9oRvQHL"
      }
    },
    {
      "cell_type": "code",
      "execution_count": null,
      "metadata": {
        "id": "zQaa6kT7ttcy"
      },
      "outputs": [],
      "source": [
        "import random"
      ]
    },
    {
      "cell_type": "code",
      "source": [
        "#to know the game instructions for the user we are printing this\n",
        "print(\"Winning Rules of the Rock paper scissor game as follows: \\n\",\"Rock vs paper->paper wins \\n\", \"Rock vs scissor->Rock wins \\n\",\"paper vs scissor->scissor wins \\n\")\n"
      ],
      "metadata": {
        "colab": {
          "base_uri": "https://localhost:8080/"
        },
        "id": "maH8oY5ZwSZw",
        "outputId": "555c94f9-56a1-4cf8-9e37-8c54a98be37e"
      },
      "execution_count": null,
      "outputs": [
        {
          "output_type": "stream",
          "name": "stdout",
          "text": [
            "Winning Rules of the Rock paper scissor game as follows: \n",
            " Rock vs paper->paper wins \n",
            " Rock vs scissor->Rock wins \n",
            " paper vs scissor->scissor wins \n",
            "\n"
          ]
        }
      ]
    },
    {
      "cell_type": "markdown",
      "source": [
        "print(\"Winning Rules of the Rock paper scissor game as follows: \\n\"\n",
        "                                +\"Rock vs paper->paper wins \\n\"\n",
        "                                + \"Rock vs scissor->Rock wins \\n\"\n",
        "                                +\"paper vs scissor->scissor wins \\n\")\n"
      ],
      "metadata": {
        "id": "O_YEUOs40BVX"
      }
    },
    {
      "cell_type": "code",
      "source": [
        "# this programme is to run the game for once\n",
        "#to know the game instructions we are printing this\n",
        "print(\"Winning Rules of the Rock paper scissor game as follows: \\n\",\"Rock vs paper->paper wins \\n\", \"Rock vs scissor->Rock wins \\n\",\"paper vs scissor->scissor wins \\n\")\n",
        "\n",
        "print(\"Enter turn you want: \\n 1 for Rock, \\n 2 for paper, and \\n 3 for scissor \\n\")\n",
        "# take the input from user\n",
        "turn = int(input(\"User turn: \"))\n",
        "\n",
        "# to check weather the input is valid or not\n",
        "while turn > 3 or turn < 1:\n",
        "  turn = int(input(\"enter valid input: \"))\n",
        "\n",
        "if turn == 1:\n",
        "  turn_name = 'Rock'\n",
        "elif turn == 2:\n",
        "  turn_name = 'paper'\n",
        "else:\n",
        "  turn_name = 'scissor'\n",
        "\n",
        "print(\"User turn is: \" + turn_name)\n",
        "print(\"\\nNow its computer turn to go.......\")\n",
        "\n",
        "comp_turn = random.randint(1, 3)\n",
        "\n",
        "while comp_turn == turn:\n",
        "        comp_turn = random.randint(1, 3)\n",
        "\n",
        "if comp_turn == 1:\n",
        "  comp_turn_name = 'Rock'\n",
        "elif comp_turn == 2:\n",
        "  comp_turn_name = 'paper'\n",
        "else:\n",
        "  comp_turn_name = 'scissor'\n",
        "\n",
        "print(\"Computer choice is: \" + comp_turn_name)\n",
        " \n",
        "print(turn_name + \" & \" + comp_turn_name)\n",
        "\n",
        "\n",
        "# giving the condition for winning as mentioned\n",
        "if((turn == 1 and comp_turn == 2) or (turn == 2 and comp_turn ==1 )):\n",
        "  print(\"paper wins => \", end = \"\")\n",
        "  result = \"paper\"\n",
        " \n",
        "elif((turn == 1 and comp_turn == 3) or (turn == 3 and comp_turn == 1)):\n",
        "  print(\"Rock wins =>\", end = \"\")\n",
        "  result = \"Rock\"\n",
        "\n",
        "elif((turn == 2 and comp_turn == 3) or (turn == 3 and comp_turn == 2)):\n",
        "  print(\"scissor wins =>\", end = \"\")\n",
        "  result = \"scissor\"\n",
        "\n",
        "elif(choice == comp_choice):\n",
        "  print(\"Draw=> \", end = \"\")\n",
        "  result = Draw\n",
        "\n",
        "if result == turn_name:\n",
        "  print(\"User is the Winner\")\n",
        "else:\n",
        "  print(\"Computeris the Winner\")\n",
        " "
      ],
      "metadata": {
        "colab": {
          "base_uri": "https://localhost:8080/"
        },
        "id": "PvNCQ8v-0I1H",
        "outputId": "4a8cfa89-8471-49ba-fbbf-a5c2844cc67f"
      },
      "execution_count": null,
      "outputs": [
        {
          "output_type": "stream",
          "name": "stdout",
          "text": [
            "Winning Rules of the Rock paper scissor game as follows: \n",
            " Rock vs paper->paper wins \n",
            " Rock vs scissor->Rock wins \n",
            " paper vs scissor->scissor wins \n",
            "\n",
            "Enter turn you want: \n",
            " 1 for Rock, \n",
            " 2 for paper, and \n",
            " 3 for scissor \n",
            "\n",
            "User turn: 5\n",
            "enter valid input: 2\n",
            "User turn is: paper\n",
            "\n",
            "Now its computer turn to go.......\n",
            "Computer choice is: Rock\n",
            "paper & Rock\n",
            "paper wins => User is the Winner\n"
          ]
        }
      ]
    },
    {
      "cell_type": "code",
      "source": [
        "# this code is to repeate the game several times\n",
        "while True:\n",
        "    print(\"Enter choice \\n 1 for Rock, \\n 2 for paper, and \\n 3 for scissor \\n\")\n",
        "     \n",
        "    # take the input from user\n",
        "    choice = int(input(\"User turn: \"))\n",
        " \n",
        "    # OR is the short-circuit operator\n",
        "    # if any one of the condition is true\n",
        "    # then it return True value\n",
        "     \n",
        "    # looping until user enter invalid input\n",
        "    while choice > 3 or choice < 1:\n",
        "        choice = int(input(\"enter valid input: \"))\n",
        "         \n",
        " \n",
        "    # initialize value of choice_name variable\n",
        "    # corresponding to the choice value\n",
        "    if choice == 1:\n",
        "        choice_name = 'Rock'\n",
        "    elif choice == 2:\n",
        "        choice_name = 'paper'\n",
        "    else:\n",
        "        choice_name = 'scissor'\n",
        "         \n",
        "    # print user choice\n",
        "    print(\"user choice is: \" + choice_name)\n",
        "    print(\"\\nNow its computer turn.......\")\n",
        " \n",
        "    # Computer chooses randomly any number\n",
        "    # among 1 , 2 and 3. Using randint method\n",
        "    # of random module\n",
        "    comp_choice = random.randint(1, 3)\n",
        "     \n",
        "    # looping until comp_choice value\n",
        "    # is equal to the choice value\n",
        "    while comp_choice == choice:\n",
        "        comp_choice = random.randint(1, 3)\n",
        " \n",
        "    # initialize value of comp_choice_name\n",
        "    # variable corresponding to the choice value\n",
        "    if comp_choice == 1:\n",
        "        comp_choice_name = 'Rock'\n",
        "    elif comp_choice == 2:\n",
        "        comp_choice_name = 'paper'\n",
        "    else:\n",
        "        comp_choice_name = 'scissor'\n",
        "         \n",
        "    print(\"Computer choice is: \" + comp_choice_name)\n",
        " \n",
        "    print(choice_name + \" V/s \" + comp_choice_name)\n",
        "    #we need to check of a draw\n",
        "    if choice == comp_choice:\n",
        "        print(\"Draw=> \", end = \"\")\n",
        "        result = Draw\n",
        "       \n",
        "    # condition for winning\n",
        "        if((choice == 1 and comp_choice == 2) or\n",
        "          (choice == 2 and comp_choice ==1 )):\n",
        "            print(\"paper wins => \", end = \"\")\n",
        "            result = \"paper\"\n",
        " \n",
        "        elif((choice == 1 and comp_choice == 3) or\n",
        "            (choice == 3 and comp_choice == 1)):\n",
        "            print(\"Rock wins =>\", end = \"\")\n",
        "            result = \"Rock\"\n",
        "        else:\n",
        "            print(\"scissor wins =>\", end = \"\")\n",
        "            result = \"scissor\"\n",
        " \n",
        "    # Printing either user or computer wins or draw\n",
        "    if result == Draw:\n",
        "        print(\"<== Its a tie ==>\")\n",
        "    if result == choice_name:\n",
        "        print(\"<== User wins ==>\")\n",
        "    else:\n",
        "        print(\"<== Computer wins ==>\")\n",
        "         \n",
        "    print(\"Do you want to play again? (Y/N)\")\n",
        "    ans = input().lower\n",
        " \n",
        " \n",
        "    # if user input n or N then condition is True\n",
        "    if ans == 'n':\n",
        "        break\n",
        "     \n",
        "# after coming out of the while loop\n",
        "# we print thanks for playing\n",
        "print(\"\\nThanks for playing\")"
      ],
      "metadata": {
        "id": "wGp2m7-YuMvI"
      },
      "execution_count": null,
      "outputs": []
    }
  ]
}